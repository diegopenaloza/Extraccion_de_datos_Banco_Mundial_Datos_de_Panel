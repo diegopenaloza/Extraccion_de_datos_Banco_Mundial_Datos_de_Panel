{
 "cells": [
  {
   "cell_type": "code",
   "execution_count": 299,
   "id": "6b737db8",
   "metadata": {},
   "outputs": [
    {
     "name": "stdout",
     "output_type": "stream",
     "text": [
      "http://api.worldbank.org/v2/countries/CHN;IND;ZAF;KOR;MEX;BRA;ESP;CAN;AUS;8S;FRA;ITA;GBR/indicators/NY.GDP.MKTP.CD?date=1970%3A2019&format=json&per_page=10000\n"
     ]
    },
    {
     "data": {
      "text/plain": [
       "AU    0\n",
       "BR    0\n",
       "CA    0\n",
       "CN    0\n",
       "ES    0\n",
       "FR    0\n",
       "GB    0\n",
       "IN    0\n",
       "IT    0\n",
       "KR    0\n",
       "MX    0\n",
       "8S    0\n",
       "ZA    0\n",
       "dtype: int64"
      ]
     },
     "execution_count": 299,
     "metadata": {},
     "output_type": "execute_result"
    }
   ],
   "source": [
    "import wbpy\n",
    "from pprint import pprint\n",
    "api = wbpy.IndicatorAPI()\n",
    "# Paises = [\"CHN\",\"IND\", \"ZAF\",\"KOR\",\"MEX\",\"BRA\",\"RUS\",\"ESP\",\"CAN\",\"AUS\",\"SAS\"]\n",
    "Paises = [\"CHN\",\"IND\", \"ZAF\",\"KOR\",\"MEX\",\"BRA\",\"ESP\",\"CAN\",\"AUS\",\"SAS\",\"FRA\",\"ITA\",\"GBR\"]\n",
    "PIB = \"NY.GDP.MKTP.CD\"\n",
    "dataset = api.get_dataset(PIB, Paises, date=\"1970:2019\")\n",
    "dataset.as_dict()\n",
    "diccionarioPIB=dataset.as_dict()\n",
    "# dataset.as_dict()\n",
    "df_p = pd.DataFrame(dataset.countries, index=[0])\n",
    "df_p=df_p.T\n",
    "df_p\n",
    "df_p=df_p.reset_index()\n",
    "df_p\n",
    "import pandas as pd    \n",
    "df = pd.DataFrame.from_dict(diccionarioPIB) \n",
    "df1=df.T\n",
    "df1=df1.reset_index()\n",
    "df1.insert(loc = 1,\n",
    "          column = 'pais',\n",
    "          value = df_p[0])\n",
    "df1[\"pais\"]=df1['pais'].astype(\"category\")\n",
    "cod=np.arange(1, len(df1)+1)\n",
    "# df1.insert(loc = 0,\n",
    "#           column = 'id',\n",
    "#           value =cod)\n",
    "myCategory = ['A','B']\n",
    "# df1['pais'] = pd.Categorical(df1['pais'], categories=cod)\n",
    "df1=df1.set_index([np.arange(1, len(df1)+1),\"index\",\"pais\",])\n",
    "# df\n",
    "dta1=pd.DataFrame(df1.stack())\n",
    "dta1=dta1.reset_index()\n",
    "dta1=dta1.rename(columns = {'level_0':'id','index':'code','level_3':'Fecha',0:'PIB'})\n",
    "dta1\n",
    "dta1['Fecha'] = dta1['Fecha'].astype(int)\n",
    "dta1.to_stata(r'G:\\Otros ordenadores\\Mi Ordenador\\Habilidades\\Universidad\\Opta IV\\Trabajos\\Trabajo Final\\Data\\Panel.dta',\n",
    "              write_index=False)\n",
    "dta1\n",
    "df\n",
    "df.isnull().sum()"
   ]
  }
 ],
 "metadata": {
  "hide_input": false,
  "kernelspec": {
   "display_name": "Python 3",
   "language": "python",
   "name": "python3"
  },
  "language_info": {
   "codemirror_mode": {
    "name": "ipython",
    "version": 3
   },
   "file_extension": ".py",
   "mimetype": "text/x-python",
   "name": "python",
   "nbconvert_exporter": "python",
   "pygments_lexer": "ipython3",
   "version": "3.8.8"
  },
  "toc": {
   "base_numbering": 1,
   "nav_menu": {},
   "number_sections": true,
   "sideBar": true,
   "skip_h1_title": false,
   "title_cell": "Table of Contents",
   "title_sidebar": "Contents",
   "toc_cell": false,
   "toc_position": {},
   "toc_section_display": true,
   "toc_window_display": false
  }
 },
 "nbformat": 4,
 "nbformat_minor": 5
}
